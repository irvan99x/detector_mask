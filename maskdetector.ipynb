{
 "cells": [
  {
   "cell_type": "code",
   "execution_count": 16,
   "source": [
    "import cv2\r\n",
    "import os\r\n",
    "import time"
   ],
   "outputs": [],
   "metadata": {
    "collapsed": false,
    "pycharm": {
     "name": "#%%\n"
    }
   }
  },
  {
   "cell_type": "code",
   "execution_count": 17,
   "source": [
    "faceCascade = cv2.CascadeClassifier(\"haarcascade/haarcascade_frontalface_default.xml\")\r\n",
    "noseCascade = cv2.CascadeClassifier(\"haarcascade/haarcascade_mcs_nose.xml\")"
   ],
   "outputs": [],
   "metadata": {
    "collapsed": false,
    "pycharm": {
     "name": "#%%\n"
    }
   }
  },
  {
   "cell_type": "code",
   "execution_count": 18,
   "source": [
    "video_capture = cv2.VideoCapture(0)\r\n",
    "mask_on = False\r\n",
    "\r\n",
    "while True:\r\n",
    "    \r\n",
    "    # ambil frame-by-frame\r\n",
    "    ret, frame = video_capture.read()\r\n",
    "    gray = cv2.cvtColor(frame, cv2.COLOR_BGR2GRAY)\r\n",
    "    wajah = faceCascade.detectMultiScale(gray, 1.1, 5)\r\n",
    "    frame = cv2.flip(frame, 1)\r\n",
    "\r\n",
    "    # gambar kotak diwajah\r\n",
    "    for (x, y, w, h) in wajah:\r\n",
    "        roi_gray = gray[y:y+h, x:x+w]\r\n",
    "        roi_color = frame[y:y+h, x:x+w]\r\n",
    "\r\n",
    "        # mask\r\n",
    "        if mask_on:\r\n",
    "            cv2.rectangle(frame, (x, y), (x+w, y+h), (0, 255, 0), 3)\r\n",
    "            cv2.putText(frame,'Mask On',(x, y), cv2.FONT_HERSHEY_SIMPLEX, 2,(0, 255, 0), 5)\r\n",
    "        else:\r\n",
    "            cv2.rectangle(frame, (x, y), (x+w, y+h), (0, 0, 255), 3)\r\n",
    "            cv2.putText(frame,'Mask Off',(x, y), cv2.FONT_HERSHEY_SIMPLEX, 2,(0, 0, 255), 5)\r\n",
    "            os.system(\"start alert.mp3\")\r\n",
    "            time.sleep(1)\r\n",
    "\r\n",
    "        # cv2.rectangle(frame, (x, y), (x+w, y+h), (0, 255, 0))\r\n",
    "        # cv2.putText(frame, 'Wajah', (x, y),\r\n",
    "                   # cv2.FONT_HERSHEY_SIMPLEX, 2, (0, 255, 0), 3)\r\n",
    "    \r\n",
    "    # hidung\r\n",
    "    hidung = noseCascade.detectMultiScale(roi_gray, 1.18, 35,)\r\n",
    "    for (sx, sy, sw, sh) in hidung :\r\n",
    "        cv2.rectangle(roi_color, (sh, sy), (sx+sw, sy+sh), (255, 0, 0), 2)\r\n",
    "        cv2.putText(frame, 'Hidung',(x + sx,y + sy), 1, 1, (0, 255, 0), 1)\r\n",
    "\r\n",
    "    if len(hidung)>0:\r\n",
    "        mask_on = False\r\n",
    "    else:\r\n",
    "        mask_on = True\r\n",
    "\r\n",
    "    cv2.putText(frame, 'Jumlah Wajah : ' + str(len(wajah)),\r\n",
    "                (30, 30), cv2.FONT_HERSHEY_SIMPLEX, 1, (255, 0, 0), 2)\r\n",
    "    cv2.imshow('Video', frame)\r\n",
    "\r\n",
    "    if cv2.waitKey(1) & 0xFF == ord('q'):\r\n",
    "        break\r\n",
    "\r\n",
    "video_capture.release()\r\n",
    "cv2.destroyAllWindows()"
   ],
   "outputs": [],
   "metadata": {
    "collapsed": false,
    "pycharm": {
     "name": "#%%\n"
    }
   }
  }
 ],
 "metadata": {
  "kernelspec": {
   "name": "python3",
   "display_name": "Python 3.9.6 64-bit"
  },
  "language_info": {
   "name": "python",
   "version": "3.9.6",
   "mimetype": "text/x-python",
   "codemirror_mode": {
    "name": "ipython",
    "version": 3
   },
   "pygments_lexer": "ipython3",
   "nbconvert_exporter": "python",
   "file_extension": ".py"
  },
  "interpreter": {
   "hash": "8b49732cee20a9523220f2615de7ff90eb0954e6c35af91293e87a4bc01ce788"
  }
 },
 "nbformat": 4,
 "nbformat_minor": 2
}